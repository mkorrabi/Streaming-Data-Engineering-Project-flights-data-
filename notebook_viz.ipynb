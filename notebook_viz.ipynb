{
 "cells": [
  {
   "cell_type": "code",
   "execution_count": 15,
   "metadata": {},
   "outputs": [],
   "source": [
    "import os\n",
    "from src.viz import *\n",
    "from datetime import datetime, timedelta\n"
   ]
  },
  {
   "cell_type": "code",
   "execution_count": 16,
   "metadata": {},
   "outputs": [],
   "source": [
    "\n",
    "###Airlines DF\n",
    "file_path_Airlines = os.path.join(r\".\\\\data\\\\Airlines\", \"Airlines.csv\")\n",
    "\n",
    "# Get today's date\n",
    "today = datetime.today()\n",
    "\n",
    "# Calculate the dates for the last two days\n",
    "yesterday = today - timedelta(days=1)\n",
    "# day_before_yesterday = today - timedelta(days=2)\n",
    "\n",
    "\n",
    "# Define the file path format\n",
    "file_path_format = \".\\\\data\\\\Flights\\\\year={year}\\\\month={month}\\\\day={day}\"\n",
    "\n",
    "# Generate file paths for the last two days\n",
    "file_path_Flights = [\n",
    "    path for path in [\n",
    "        file_path_format.format(year=today.year, month=today.month, day=today.day),\n",
    "        file_path_format.format(year=yesterday.year, month=yesterday.month, day=yesterday.day)\n",
    "    ] if os.path.exists(path)\n",
    "]"
   ]
  },
  {
   "cell_type": "code",
   "execution_count": 17,
   "metadata": {},
   "outputs": [
    {
     "name": "stdout",
     "output_type": "stream",
     "text": [
      "+--------------------+------------+-------------+\n",
      "|                Name|airline_icao|Nombre de vol|\n",
      "+--------------------+------------+-------------+\n",
      "|          Korean Air|         KAL|           10|\n",
      "|     Delta Air Lines|         DAL|            8|\n",
      "|          Air Canada|         ACA|            5|\n",
      "|    Turkish Airlines|         THY|            5|\n",
      "|             EVA Air|         EVA|            3|\n",
      "|     United Airlines|         UAL|            3|\n",
      "|China Eastern Air...|         CES|            2|\n",
      "|      Etihad Airways|         ETD|            2|\n",
      "|      Japan Airlines|         JAL|            2|\n",
      "|           Atlas Air|         GTI|            2|\n",
      "|            Emirates|         UAE|            2|\n",
      "|     Asiana Airlines|         AAR|            2|\n",
      "|           Air India|         AIC|            2|\n",
      "|United States - A...|         RCH|            1|\n",
      "|  All Nippon Airways|         ANA|            1|\n",
      "|   American Airlines|         AAL|            1|\n",
      "|       Kenya Airways|         KQA|            1|\n",
      "| Philippine Airlines|         PAL|            1|\n",
      "|  Singapore Airlines|         SIA|            1|\n",
      "|          Xiamen Air|         CXA|            1|\n",
      "+--------------------+------------+-------------+\n",
      "only showing top 20 rows\n",
      "\n"
     ]
    }
   ],
   "source": [
    "\n",
    "\n",
    "\n",
    "\n",
    "df=get_comp_most_fly(file_path_Airlines=file_path_Airlines, file_path_Flights=file_path_Flights)\n",
    "df.show()\n"
   ]
  },
  {
   "cell_type": "code",
   "execution_count": 18,
   "metadata": {},
   "outputs": [
    {
     "name": "stdout",
     "output_type": "stream",
     "text": [
      "+------+------------+-------------+\n",
      "|  Name|airline_icao|Nombre de vol|\n",
      "+------+------------+-------------+\n",
      "| FedEx|         FDX|            3|\n",
      "|Flynas|         KNE|            1|\n",
      "|  Azul|         AZU|            1|\n",
      "+------+------------+-------------+\n",
      "\n"
     ]
    }
   ],
   "source": [
    "file_path_Airports = os.path.join(r\".\\\\data\\\\Airports\", \"Airports.csv\")\n",
    "df=get_comp_most_flight_in_same_continent(\n",
    "    file_path_Airports, file_path_Flights, file_path_Airlines\n",
    ")\n",
    "df.show()"
   ]
  },
  {
   "cell_type": "code",
   "execution_count": 19,
   "metadata": {},
   "outputs": [
    {
     "name": "stdout",
     "output_type": "stream",
     "text": [
      "+---------+-----------------+-------------------+--------------------+\n",
      "|id_flight|duration in hours|duration in minutes|duration in secondes|\n",
      "+---------+-----------------+-------------------+--------------------+\n",
      "| 36b61a69|               13|                 12|                  29|\n",
      "| 36b6154e|               13|                 12|                  29|\n",
      "| 36b60809|               13|                 12|                  29|\n",
      "| 36b613ac|               13|                 12|                  29|\n",
      "| 36b61557|               13|                 12|                  29|\n",
      "| 36b60874|               13|                 12|                  29|\n",
      "| 36b613a5|               13|                 12|                  29|\n",
      "| 36b60d59|               13|                 12|                  29|\n",
      "| 36b60e93|               13|                 12|                  29|\n",
      "| 36b60fb0|               13|                 12|                  29|\n",
      "| 36b60979|               13|                 12|                  29|\n",
      "| 36b62214|               12|                 59|                  53|\n",
      "| 36b6254e|               12|                 59|                  53|\n",
      "| 36b62598|               12|                 59|                  53|\n",
      "| 36b62539|               12|                 59|                  53|\n",
      "| 36b626b9|               12|                 59|                  53|\n",
      "| 36b62665|               12|                 59|                  53|\n",
      "| 36b63234|               12|                 49|                  46|\n",
      "| 36b6333e|               12|                 49|                  46|\n",
      "| 36b6347d|               12|                 49|                  46|\n",
      "+---------+-----------------+-------------------+--------------------+\n",
      "only showing top 20 rows\n",
      "\n"
     ]
    }
   ],
   "source": [
    "\n",
    "df=get_fly_longest_dist(file_path_Flights)\n",
    "df.show()\n"
   ]
  },
  {
   "cell_type": "code",
   "execution_count": 21,
   "metadata": {},
   "outputs": [
    {
     "name": "stdout",
     "output_type": "stream",
     "text": [
      "+---------+-----------------------+\n",
      "|continent|mean_delay_flight_hours|\n",
      "+---------+-----------------------+\n",
      "|Australia|     12.005617283950617|\n",
      "|   Indian|     11.735277777777778|\n",
      "|   Africa|     11.571833333333332|\n",
      "|     Asia|     11.477186302681993|\n",
      "|  America|     11.242257751937984|\n",
      "|   Europe|     11.053134328358208|\n",
      "+---------+-----------------------+\n",
      "\n"
     ]
    }
   ],
   "source": [
    "df=get_continent_mean_flights(file_path_Airports, file_path_Flights)\n",
    "df.show()\n",
    "\n"
   ]
  },
  {
   "cell_type": "code",
   "execution_count": null,
   "metadata": {},
   "outputs": [],
   "source": []
  }
 ],
 "metadata": {
  "kernelspec": {
   "display_name": ".venv",
   "language": "python",
   "name": "python3"
  },
  "language_info": {
   "codemirror_mode": {
    "name": "ipython",
    "version": 3
   },
   "file_extension": ".py",
   "mimetype": "text/x-python",
   "name": "python",
   "nbconvert_exporter": "python",
   "pygments_lexer": "ipython3",
   "version": "3.9.13"
  }
 },
 "nbformat": 4,
 "nbformat_minor": 2
}
